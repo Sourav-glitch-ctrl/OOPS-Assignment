{
  "nbformat": 4,
  "nbformat_minor": 0,
  "metadata": {
    "colab": {
      "provenance": []
    },
    "kernelspec": {
      "name": "python3",
      "display_name": "Python 3"
    },
    "language_info": {
      "name": "python"
    }
  },
  "cells": [
    {
      "cell_type": "markdown",
      "source": [
        "# OOPS Assignment\n",
        "## Theoretical Questions\n",
        "\n",
        "1. What is Object-Oriented Programming (OOP)?\n",
        "- OOP is a programming paradigm based on objects containing data and methods. It helps organize code using concepts like inheritance, polymorphism, and encapsulation.\n",
        "\n",
        "2. What is a class in OOP?\n",
        "- A class is a blueprint for creating objects. It defines attributes (data) and methods (functions).\n",
        "\n",
        "3. What is an object in OOP?\n",
        "- An object is an instance of a class. It represents real-world entities with state and behavior.\n",
        "\n",
        "4. What is the difference between abstraction and encapsulation?\n",
        "- Abstraction hides implementation details and shows only essentials. Encapsulation binds data and methods, restricting direct access.\n",
        "\n",
        "5. What are dunder methods in Python?\n",
        "- Dunder (double underscore) methods are special methods like __ init __, __ str __. They allow operator overloading and object customization.\n",
        "\n",
        "6. Explain the concept of inheritance in OOP.\n",
        "- Inheritance allows one class to derive properties and methods from another. It promotes code reusability.\n",
        "\n",
        "7. What is polymorphism in OOP?\n",
        "- Polymorphism means \"many forms\" – the same method name can behave differently in different classes.\n",
        "\n",
        "8. How is encapsulation achieved in Python?\n",
        "- Encapsulation is done using private variables (__var). It hides data from direct access.\n",
        "\n",
        "9. What is a constructor in Python?\n",
        "- A constructor (__init__) initializes object attributes when an object is created.\n",
        "\n",
        "10. What are class and static methods in Python?\n",
        "- Class methods work with class-level data using @classmethod. Static methods use @staticmethod and don’t depend on object or class.\n",
        "\n",
        "11. What is method overloading in Python?\n",
        "- Python does not support true method overloading. But it can be achieved using default arguments.\n",
        "\n",
        "12. What is method overriding in OOP?\n",
        "- When a child class defines the same method as its parent, overriding happens. It changes the parent’s method behavior.\n",
        "\n",
        "13. What is a property decorator in Python?\n",
        "- @property makes a method behave like an attribute. It allows getter, setter, and deleter without breaking OOP rules.\n",
        "\n",
        "14. Why is polymorphism important in OOP?\n",
        "- It increases code flexibility and reusability. Different objects can be used through a common interface.\n",
        "\n",
        "15. What is an abstract class in Python?\n",
        "- An abstract class cannot be instantiated directly. It contains abstract methods that must be implemented by subclasses.\n",
        "\n",
        "16. What are the advantages of OOP?\n",
        "- OOP promotes modularity, code reuse, scalability, and easier debugging. It models real-world entities.\n",
        "\n",
        "17. What is the difference between a class variable and an instance variable?\n",
        "- Class variables are shared by all objects of a class. Instance variables belong to each object individually.\n",
        "\n",
        "18. What is multiple inheritance in Python?\n",
        "- A class can inherit from more than one parent class. This allows combining features of multiple classes.\n",
        "\n",
        "19. Explain the purpose of __str__ and __repr__ methods in Python.\n",
        "- __str__ gives a user-friendly string output. __repr__ gives a developer-focused representation of an object.\n",
        "\n",
        "20. What is the significance of the super() function in Python?\n",
        "- super() allows calling parent class methods in child classes. It simplifies inheritance handling.\n",
        "\n",
        "21. What is the significance of the __del__ method in Python?\n",
        "- __del__ is a destructor. It is called when an object is deleted or goes out of scope.\n",
        "\n",
        "22. What is the difference between @staticmethod and @classmethod in Python?\n",
        "- @staticmethod doesn’t access class or instance data. @classmethod works with class data using cls.\n",
        "\n",
        "23. How does polymorphism work in Python with inheritance?\n",
        "- Child classes can override parent methods. The same function call works differently depending on the object.\n",
        "\n",
        "24. What is method chaining in Python OOP?\n",
        "- It means calling multiple methods on the same object in one line. Each method returns the object itself.\n",
        "\n",
        "25. What is the purpose of the __call__ method in Python?\n",
        "- It makes an object callable like a function. Defining __call__ lets you use object() syntax."
      ],
      "metadata": {
        "id": "bvm8aLT2xNBp"
      }
    },
    {
      "cell_type": "markdown",
      "source": [
        "# Practical Questions"
      ],
      "metadata": {
        "id": "7htq8splU7Qc"
      }
    },
    {
      "cell_type": "code",
      "execution_count": 5,
      "metadata": {
        "colab": {
          "base_uri": "https://localhost:8080/"
        },
        "id": "5r66Zy4hU1ot",
        "outputId": "fa453a07-1a84-43b4-9471-8760a9929103"
      },
      "outputs": [
        {
          "output_type": "stream",
          "name": "stdout",
          "text": [
            "Bark!\n"
          ]
        }
      ],
      "source": [
        "#1. Create a parent class Animal with a method speak() that prints a generic message. Create a child class Dog that overrides the speak() method to print \"Bark!\".\n",
        "\n",
        "class Animal:\n",
        "  def speak(self):\n",
        "    print(\"The Cat Meows\")\n",
        "\n",
        "class dog(Animal):\n",
        "  def speak(self):\n",
        "    print(\"Bark!\")\n",
        "\n",
        "ob1= dog()\n",
        "ob1.speak()"
      ]
    },
    {
      "cell_type": "code",
      "source": [
        "#2. Write a program to create an abstract class Shape with a method area(). Derive classes Circle and Rectangle from it and implement the area() method in both.\n",
        "\n",
        "\n",
        "class Shape():\n",
        "  def area(self):\n",
        "    print(\"Something\")\n",
        "\n",
        "class cirlce(Shape):\n",
        "  def __init__(self,radius):\n",
        "    self.radius = radius\n",
        "\n",
        "  def area(self):\n",
        "    return 3.14*(self.radius**2)\n",
        "\n",
        "\n",
        "class Rectangle(Shape):\n",
        "  def __init__(self,length,breadth):\n",
        "    self.length = length\n",
        "    self.breadth =breadth\n",
        "\n",
        "\n",
        "  def area(self):\n",
        "    return self.length * self.breadth\n",
        "\n",
        "area_circle = cirlce(5)\n",
        "area_rectangle =Rectangle(5,6)\n",
        "print(area_circle.area())\n",
        "print(area_rectangle.area())"
      ],
      "metadata": {
        "colab": {
          "base_uri": "https://localhost:8080/"
        },
        "id": "Pf6on8aKWUVK",
        "outputId": "acba5118-c621-4c3b-ef19-e4c5e382e410"
      },
      "execution_count": 10,
      "outputs": [
        {
          "output_type": "stream",
          "name": "stdout",
          "text": [
            "78.5\n",
            "30\n"
          ]
        }
      ]
    },
    {
      "cell_type": "code",
      "source": [
        "#3. Implement a multi-level inheritance scenario where a class Vehicle has an attribute type. Derive a class Car and further derive a class ElectricCar that adds a battery attribute.\n",
        "\n",
        "class Vehicle:\n",
        "  def type_car(self):\n",
        "    print(\"Its a Car\")\n",
        "\n",
        "class ElectricCar(Vehicle):\n",
        "  def electric(self):\n",
        "    print(\"The Car is a Electric car\")\n",
        "\n",
        "class Battery(ElectricCar):\n",
        "  def battery(self):\n",
        "    print(\"The Car has capacity of 200 kwhr\")\n",
        "\n",
        "\n",
        "e=Battery()\n",
        "e.type_car()\n",
        "e.electric()\n",
        "e.battery()"
      ],
      "metadata": {
        "colab": {
          "base_uri": "https://localhost:8080/"
        },
        "id": "-i0wrWAyYql2",
        "outputId": "36eb4a4a-22a1-4a36-f543-22237a967078"
      },
      "execution_count": 11,
      "outputs": [
        {
          "output_type": "stream",
          "name": "stdout",
          "text": [
            "Its a Car\n",
            "The Car is a Electric car\n",
            "The Car has capacity of 200 kwhr\n"
          ]
        }
      ]
    },
    {
      "cell_type": "code",
      "source": [
        "#4. Demonstrate polymorphism by creating a base class Bird with a method fly(). Create two derived classes Sparrow and Penguin that override the fly() method.\n",
        "\n",
        "class Bird:\n",
        "  def fly(self):\n",
        "    print(\"a average bird can fly\")\n",
        "class Sparrow(Bird):\n",
        "  def fly(self):\n",
        "    print(\"a sparrow can fly\")\n",
        "\n",
        "class Penguin(Bird):\n",
        "  def fly(self):\n",
        "    print(\"a Penguin can't fly\")\n",
        "\n",
        "\n",
        "p=Sparrow()\n",
        "S=Penguin()\n",
        "p.fly()\n",
        "S.fly()\n",
        "\n",
        "\n"
      ],
      "metadata": {
        "colab": {
          "base_uri": "https://localhost:8080/"
        },
        "id": "g3ZundIhWURy",
        "outputId": "d1174137-d43d-4c24-b433-56ed8384acf1"
      },
      "execution_count": 13,
      "outputs": [
        {
          "output_type": "stream",
          "name": "stdout",
          "text": [
            "a sparrow can fly\n",
            "a Penguin can't fly\n"
          ]
        }
      ]
    },
    {
      "cell_type": "code",
      "source": [
        "#5. Write a program to demonstrate encapsulation by creating a class BankAccount with private attributes balance and methods to deposit, withdraw, and check balance.\n",
        "\n",
        "class BankAccount:\n",
        "  def __init__(self,balance):\n",
        "    self.__balance = balance\n",
        "\n",
        "  def Deposit(self,amount):\n",
        "    self.__balance += amount\n",
        "    print(f\"You have Deposited {amount} \")\n",
        "\n",
        "  def Withdraw(self,amount):\n",
        "    self.__balance -= amount\n",
        "    print(f\"You have Withdrawed {amount} \")\n",
        "\n",
        "  def Check_Balance(self):\n",
        "    print(f\"Your Current Balance is {self.__balance}\")\n",
        "\n",
        "\n",
        "Cust1= BankAccount(1000)\n",
        "Cust1.Deposit(1000)\n",
        "Cust1.Withdraw(200)\n",
        "Cust1.Check_Balance()"
      ],
      "metadata": {
        "colab": {
          "base_uri": "https://localhost:8080/"
        },
        "id": "D4_-RvRtWUL0",
        "outputId": "a1e3a613-ad93-4a1a-9187-0b7e313cfb81"
      },
      "execution_count": 26,
      "outputs": [
        {
          "output_type": "stream",
          "name": "stdout",
          "text": [
            "You have Deposited 1000 \n",
            "You have Withdrawed 200 \n",
            "Your Current Balance is 1800\n"
          ]
        }
      ]
    },
    {
      "cell_type": "code",
      "source": [
        "#6. Demonstrate runtime polymorphism using a method play() in a base class Instrument. Derive classes Guitar\n",
        "#and Piano that implement their own version of play().\n",
        "\n",
        "class Instrument:\n",
        "    def play(self):\n",
        "        print(\"An instrument is playing\")\n",
        "\n",
        "class Guitar(Instrument):\n",
        "    def play(self):\n",
        "        print(\"Strumming the guitar\")\n",
        "\n",
        "class Piano(Instrument):\n",
        "    def play(self):\n",
        "        print(\"Playing the piano\")\n",
        "\n",
        "i1 = Guitar()\n",
        "i2 = Piano()\n",
        "\n",
        "i1.play()\n",
        "i2.play()\n"
      ],
      "metadata": {
        "colab": {
          "base_uri": "https://localhost:8080/"
        },
        "id": "SeI6qGtmWUIh",
        "outputId": "8bad73d0-ad7f-42b2-b75c-e2c7643193ae"
      },
      "execution_count": 27,
      "outputs": [
        {
          "output_type": "stream",
          "name": "stdout",
          "text": [
            "Strumming the guitar\n",
            "Playing the piano\n"
          ]
        }
      ]
    },
    {
      "cell_type": "code",
      "source": [
        "#7. Create a class MathOperations with a class method add_numbers() to add two numbers and a static method subtract_numbers() to subtract two numbers.\n",
        "\n",
        "class MathOperations:\n",
        "  @classmethod\n",
        "  def add_numbers(cls,a,b):\n",
        "    print(f\"Sum of Two Numbers is {a+b}\")\n",
        "\n",
        "  @staticmethod\n",
        "  def subtract_numbers(a,b):\n",
        "    print(f\"Differnce between Two Numbers is {a-b}\")\n",
        "\n",
        "\n",
        "opr1=MathOperations()\n",
        "opr1.subtract_numbers(7,5)\n",
        "\n",
        "MathOperations.add_numbers(7,3)\n",
        "\n"
      ],
      "metadata": {
        "colab": {
          "base_uri": "https://localhost:8080/"
        },
        "id": "nbvLdgXDWUFE",
        "outputId": "0a6c1126-6f94-44f4-92ff-e5a3aa70892a"
      },
      "execution_count": 41,
      "outputs": [
        {
          "output_type": "stream",
          "name": "stdout",
          "text": [
            "Differnce between Two Numbers is 2\n",
            "Sum of Two Numbers is 10\n"
          ]
        }
      ]
    },
    {
      "cell_type": "code",
      "source": [
        "#8. Implement a class Person with a class method to count the total number of persons created.\n",
        "class Person:\n",
        "    count = 0\n",
        "\n",
        "    def __init__(self):\n",
        "        Person.count += 1\n",
        "    @classmethod\n",
        "    def total_persons(cls):\n",
        "        print(\"Total persons created:\", cls.count)\n",
        "p1 = Person()\n",
        "p2 = Person()\n",
        "p3 = Person()\n",
        "\n",
        "Person.total_persons()\n"
      ],
      "metadata": {
        "colab": {
          "base_uri": "https://localhost:8080/"
        },
        "id": "X5TsbEKRWUCD",
        "outputId": "84c84515-7c7e-4229-9ca9-23ef5be502da"
      },
      "execution_count": 42,
      "outputs": [
        {
          "output_type": "stream",
          "name": "stdout",
          "text": [
            "Total persons created: 3\n"
          ]
        }
      ]
    },
    {
      "cell_type": "code",
      "source": [
        "#9. Write a class Fraction with attributes numerator and denominator. Override the str method to display the fraction as \"numerator/denominator\".\n",
        "\n",
        "class Fraction:\n",
        "  def __init__(self,numerator,denominator):\n",
        "    self.numerator= numerator\n",
        "    self.denominator = denominator\n",
        "\n",
        "  def __str__(self):\n",
        "    return f\"{self.numerator}/{self.denominator}\"\n",
        "\n",
        "\n",
        "opr2 = Fraction(10, 5)\n",
        "print(opr2)   # Output: 10/5\n"
      ],
      "metadata": {
        "colab": {
          "base_uri": "https://localhost:8080/"
        },
        "id": "YIi5cVslWT-r",
        "outputId": "b4a5609b-d4e7-4aba-d557-29ca08b2fd29"
      },
      "execution_count": 54,
      "outputs": [
        {
          "output_type": "stream",
          "name": "stdout",
          "text": [
            "10/5\n"
          ]
        }
      ]
    },
    {
      "cell_type": "code",
      "source": [
        "#10. Demonstrate operator overloading by creating a class Vector and overriding the add method to add two vectors.\n",
        "\n",
        "class Vector:\n",
        "    def __init__(self, x, y):\n",
        "        self.x = x\n",
        "        self.y = y\n",
        "    def __add__(self, other):\n",
        "        return Vector(self.x + other.x, self.y + other.y)\n",
        "\n",
        "    def __str__(self):\n",
        "        return f\"({self.x}, {self.y})\"\n",
        "\n",
        "\n",
        "v1 = Vector(2, 3)\n",
        "v2 = Vector(4, 5)\n",
        "\n",
        "result = v1 + v2\n",
        "print(result)\n",
        "\n"
      ],
      "metadata": {
        "colab": {
          "base_uri": "https://localhost:8080/"
        },
        "id": "QFVMHyz_WT7o",
        "outputId": "ba4a9837-9908-49a5-8b96-e5fcd20aa295"
      },
      "execution_count": 55,
      "outputs": [
        {
          "output_type": "stream",
          "name": "stdout",
          "text": [
            "(6, 8)\n"
          ]
        }
      ]
    },
    {
      "cell_type": "code",
      "source": [
        "#11. Create a class Person with attributes name and age. Add a method greet() that prints \"Hello, my name is {name} and I am {age} years old.\"\n",
        "\n",
        "class Person:\n",
        "  def greet(self, name, age):\n",
        "    print(f\"Hello, my name is {name} and I am {age} years old.\")\n",
        "\n",
        "user1=Person()\n",
        "user1.greet(\"Sourav\", 20)\n",
        "\n"
      ],
      "metadata": {
        "colab": {
          "base_uri": "https://localhost:8080/"
        },
        "id": "BSS3uloTWT4m",
        "outputId": "9552085c-2301-4d96-e4f5-8331dfc297d6"
      },
      "execution_count": 66,
      "outputs": [
        {
          "output_type": "stream",
          "name": "stdout",
          "text": [
            "Hello, my name is Sourav and I am 20 years old.\n"
          ]
        }
      ]
    },
    {
      "cell_type": "code",
      "source": [
        "#12. Implement a class Student with attributes name and grades. Create a method average_grade() to compute the average of the grades.\n",
        "\n",
        "class Student:\n",
        "    def __init__(self, name, grades):\n",
        "        self.name = name\n",
        "        self.grades = grades\n",
        "\n",
        "    def average_grade(self):\n",
        "        return sum(self.grades) / len(self.grades)\n",
        "\n",
        "    def stud():\n",
        "        no_of_students = int(input(\"Enter the number of students: \"))\n",
        "        for i in range(no_of_students):\n",
        "            name = input(\"Enter the name: \")\n",
        "            n = int(input(\"Enter how many grades: \"))\n",
        "            grades = []\n",
        "            for j in range(n):\n",
        "                grade = int(input(f\"Enter grade {j+1}: \"))\n",
        "                grades.append(grade)\n",
        "\n",
        "            s = Student(name, grades)\n",
        "            print(f\"Average grade of {s.name} is {s.average_grade()}\")\n",
        "\n",
        "Student.stud()\n"
      ],
      "metadata": {
        "colab": {
          "base_uri": "https://localhost:8080/"
        },
        "id": "Tmxd7IbDWT1j",
        "outputId": "c697dd93-4b0f-4fca-c980-d8245fb3c1ac"
      },
      "execution_count": 72,
      "outputs": [
        {
          "output_type": "stream",
          "name": "stdout",
          "text": [
            "Enter the number of students: 1\n",
            "Enter the name: Sourav\n",
            "Enter how many grades: 3\n",
            "Enter grade 1: 40\n",
            "Enter grade 2: 60\n",
            "Enter grade 3: 80\n",
            "Average grade of Sourav is 60.0\n"
          ]
        }
      ]
    },
    {
      "cell_type": "code",
      "source": [
        "#13. Create a class Rectangle with methods set_dimensions() to set the dimensions and area() to calculate the area\n",
        "\n",
        "class rectangle:\n",
        "  def set_dimension(self):\n",
        "    self.length= int(input(\"Enter:\"))\n",
        "    self.breadth= int(input(\"Enter:\"))\n",
        "\n",
        "  def area(self):\n",
        "    area = self.length * self.breadth\n",
        "    return area\n"
      ],
      "metadata": {
        "id": "GJuhLv7dWTy0"
      },
      "execution_count": 88,
      "outputs": []
    },
    {
      "cell_type": "code",
      "source": [
        "opr3 = rectangle()\n",
        "opr3.set_dimension()\n",
        "print(opr3.area())"
      ],
      "metadata": {
        "colab": {
          "base_uri": "https://localhost:8080/"
        },
        "id": "LMMqM2MqWTvl",
        "outputId": "b02f6a15-0da6-4abe-8dd4-81c95aa367d3"
      },
      "execution_count": 91,
      "outputs": [
        {
          "output_type": "stream",
          "name": "stdout",
          "text": [
            "Enter:4\n",
            "Enter:7\n",
            "28\n"
          ]
        }
      ]
    },
    {
      "cell_type": "code",
      "source": [
        "#14. Create a class Employee with a method calculate_salary() that computes the salary based on hours worked and hourly rate. Create a derived class Manager that adds a bonus to the salary.\n",
        "\n",
        "class Employee:\n",
        "  def calculate_salary(self,hour_salary):\n",
        "    self.employee_name = input(\"Enter the Name:\")\n",
        "    self.hours_Worked = int(input(\"Enter No. Of Hours Worked:\"))\n",
        "    self.total_salary= hour_salary * self.hours_Worked\n",
        "    return self.total_salary\n",
        "\n",
        "class Manager(Employee):\n",
        "  def bonus(self):\n",
        "    if self.hours_Worked >= 30:\n",
        "      self.total_salary= self.total_salary+ 1500\n",
        "    elif self.hours_Worked >= 15:\n",
        "      self.total_salary= self.total_salary+ 750\n",
        "    return self.total_salary\n",
        "p1 = Manager()\n",
        "p1.calculate_salary(100)\n",
        "print(f\"{p1.employee_name}'s salary is:\", p1.bonus())\n",
        ""
      ],
      "metadata": {
        "colab": {
          "base_uri": "https://localhost:8080/"
        },
        "id": "lc6881NZWTtA",
        "outputId": "dcdab213-dd8b-44dc-836e-da6712e62e98"
      },
      "execution_count": 123,
      "outputs": [
        {
          "output_type": "stream",
          "name": "stdout",
          "text": [
            "Enter the Name:Sou\n",
            "Enter No. Of Hours Worked:40\n",
            "Sou's salary is: 5500\n"
          ]
        }
      ]
    },
    {
      "cell_type": "code",
      "source": [
        "#15. Create a class Product with attributes name, price, and quantity. Implement a method total_price() that calculates the total price of the product.\n",
        "\n",
        "class Product:\n",
        "    def __init__(self, name, price, quantity):\n",
        "        self.name = name\n",
        "        self.price = price\n",
        "        self.quantity = quantity\n",
        "\n",
        "    def total_price(self):\n",
        "        return self.price * self.quantity\n",
        "\n",
        "p1 = Product(\"Laptop\", 50000, 2)\n",
        "print(\"Total Price:\", p1.total_price())\n",
        "\n"
      ],
      "metadata": {
        "colab": {
          "base_uri": "https://localhost:8080/"
        },
        "id": "ZNtDWLnR4bVa",
        "outputId": "f8d67638-d8e5-4029-cf8a-f98413dc681c"
      },
      "execution_count": 119,
      "outputs": [
        {
          "output_type": "stream",
          "name": "stdout",
          "text": [
            "Total Price: 100000\n"
          ]
        }
      ]
    },
    {
      "cell_type": "code",
      "source": [
        "#16. Create a class Animal with an abstract method sound(). Create two derived classes Cow and Sheep that implement the sound() method.\n",
        "from abc import ABC, abstractmethod\n",
        "\n",
        "class Animal(ABC):\n",
        "    @abstractmethod\n",
        "    def sound(self):\n",
        "        pass\n",
        "\n",
        "class Cow(Animal):\n",
        "    def sound(self):\n",
        "        return \"Moo\"\n",
        "\n",
        "class Sheep(Animal):\n",
        "    def sound(self):\n",
        "        return \"Baa\"\n",
        "\n",
        "# Example\n",
        "c = Cow()\n",
        "s = Sheep()\n",
        "print(\"Cow sound:\", c.sound())\n",
        "print(\"Sheep sound:\", s.sound())\n"
      ],
      "metadata": {
        "colab": {
          "base_uri": "https://localhost:8080/"
        },
        "id": "Uv0MiDrLWTpo",
        "outputId": "0505f0d7-2e4d-4a6b-ab8f-78337801707f"
      },
      "execution_count": 124,
      "outputs": [
        {
          "output_type": "stream",
          "name": "stdout",
          "text": [
            "Cow sound: Moo\n",
            "Sheep sound: Baa\n"
          ]
        }
      ]
    },
    {
      "cell_type": "code",
      "source": [
        "#17. Create a class Book with attributes title, author, and year_published. Add a method get_book_info() that returns a formatted string with the book's details.\n",
        "class Book:\n",
        "    def __init__(self, title, author, year_published):\n",
        "        self.title = title\n",
        "        self.author = author\n",
        "        self.year_published = year_published\n",
        "\n",
        "    def get_book_info(self):\n",
        "        return f\"{self.title} by {self.author}, published in {self.year_published}\"\n",
        "\n",
        "b1 = Book(\"The Alchemist\", \"Paulo Coelho\", 1988)\n",
        "print(b1.get_book_info())\n"
      ],
      "metadata": {
        "colab": {
          "base_uri": "https://localhost:8080/"
        },
        "id": "PFmtoCBDWTnB",
        "outputId": "43c7d80f-bc21-42c1-931d-fb1e73ac7c71"
      },
      "execution_count": 125,
      "outputs": [
        {
          "output_type": "stream",
          "name": "stdout",
          "text": [
            "The Alchemist by Paulo Coelho, published in 1988\n"
          ]
        }
      ]
    },
    {
      "cell_type": "code",
      "source": [
        "#18. Create a class House with attributes address and price. Create a derived class Mansion that adds an attribute number_of_rooms.\n",
        "class House:\n",
        "    def __init__(self, address, price):\n",
        "        self.address = address\n",
        "        self.price = price\n",
        "\n",
        "class Mansion(House):\n",
        "    def __init__(self, address, price, number_of_rooms):\n",
        "        House.__init__(self, address, price)\n",
        "        self.number_of_rooms = number_of_rooms\n",
        "\n",
        "m = Mansion(\"Mumbai\", 50000000, 10)\n",
        "print(\"Address:\", m.address)\n",
        "print(\"Price:\", m.price)\n",
        "print(\"Rooms:\", m.number_of_rooms)\n",
        "\n"
      ],
      "metadata": {
        "colab": {
          "base_uri": "https://localhost:8080/"
        },
        "id": "-CLV8cgUWTkI",
        "outputId": "ed087c94-5f93-48c8-b2a0-337509e23d5a"
      },
      "execution_count": 126,
      "outputs": [
        {
          "output_type": "stream",
          "name": "stdout",
          "text": [
            "Address: Mumbai\n",
            "Price: 50000000\n",
            "Rooms: 10\n"
          ]
        }
      ]
    },
    {
      "cell_type": "markdown",
      "source": [],
      "metadata": {
        "id": "b_64zW5jxJTq"
      }
    }
  ]
}